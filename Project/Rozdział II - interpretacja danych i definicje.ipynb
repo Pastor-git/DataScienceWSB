{
 "cells": [
  {
   "cell_type": "code",
   "execution_count": null,
   "id": "bc18a567",
   "metadata": {},
   "outputs": [],
   "source": [
    "import pandas as pd\n",
    "import matplotlib.pyplot as plt\n",
    "import seaborn as sns"
   ]
  },
  {
   "cell_type": "code",
   "execution_count": null,
   "id": "da1f5dc1",
   "metadata": {},
   "outputs": [],
   "source": [
    "File_source = '../Data/nypd-motor-vehicle-collisions.csv'"
   ]
  },
  {
   "cell_type": "code",
   "execution_count": null,
   "id": "78d70e6d",
   "metadata": {},
   "outputs": [],
   "source": [
    "df = pd.read_csv(File_source)"
   ]
  },
  {
   "cell_type": "code",
   "execution_count": null,
   "id": "e20099d5",
   "metadata": {},
   "outputs": [],
   "source": [
    "duplicates = df[df.duplicated(subset='COLLISION_ID', keep=False)]\n",
    "collision_id_counts = duplicates['COLLISION_ID'].value_counts()\n",
    "\n",
    "# ZLICZA WIERSZE - JESLI KAŻDY WIERSZ I JEGO DUPLIKAT LICZĄ SIE ZA JEDEN - ZATEM TRZEBA DAĆ WIĘSZKY COUNTS\n",
    "rows_with_multiple_duplicates = collision_id_counts[collision_id_counts > 2]\n",
    "if not rows_with_multiple_duplicates.empty:\n",
    "    print(\"Wiersze z więcej niż jednym duplikatem:\")\n",
    "    print(rows_with_multiple_duplicates)\n",
    "    total_duplicates = rows_with_multiple_duplicates.sum()\n",
    "    print(\"Łączna liczba wierszy z więcej niż jednym duplikatem:\", total_duplicates)\n",
    "else:\n",
    "    print(\"Brak wierszy z więcej niż jednym duplikatem.\")"
   ]
  },
  {
   "cell_type": "code",
   "execution_count": null,
   "id": "f39a248c",
   "metadata": {},
   "outputs": [],
   "source": [
    "# PORÓŒNANIE DLA KAŻDEGO JEDNEGO WPISANEGO RĘCZNIE WIERSZA DO PUNKTOWYCH TESTÓW\n",
    "row_index = 100\n",
    "\n",
    "row1 = df.loc[row_index]  # wybór\n",
    "collision_id1 = row1['COLLISION_ID']\n",
    "\n",
    "# czy wiersz o tym samym COLLISION_ID\n",
    "if df[df['COLLISION_ID'] == collision_id1].shape[0] > 1:\n",
    "    is_match = False\n",
    "    \n",
    "    for _, row2 in df[df['COLLISION_ID'] == collision_id1].iterrows():\n",
    "        # czy identyczne\n",
    "        if not row1.equals(row2):  \n",
    "            is_match = False\n",
    "            break\n",
    "        else:\n",
    "            is_match = True\n",
    "    \n",
    "# Wydrukowanie wyniku\n",
    "    print(\"Wiersz 1:\")\n",
    "    print(row1)\n",
    "    print(\"Wiersz 2:\")\n",
    "    print(row2)\n",
    "    print(\"Czy identyczne:\", is_match)\n",
    "else:\n",
    "    print(\"Brak zdublowanego COLLISION_ID dla wiersza o indeksie\", row_index)"
   ]
  },
  {
   "cell_type": "code",
   "execution_count": null,
   "id": "a00b136d",
   "metadata": {},
   "outputs": [],
   "source": []
  }
 ],
 "metadata": {
  "kernelspec": {
   "display_name": "Python 3 (ipykernel)",
   "language": "python",
   "name": "python3"
  },
  "language_info": {
   "codemirror_mode": {
    "name": "ipython",
    "version": 3
   },
   "file_extension": ".py",
   "mimetype": "text/x-python",
   "name": "python",
   "nbconvert_exporter": "python",
   "pygments_lexer": "ipython3",
   "version": "3.10.6"
  }
 },
 "nbformat": 4,
 "nbformat_minor": 5
}
