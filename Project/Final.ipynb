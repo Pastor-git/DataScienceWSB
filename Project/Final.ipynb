{
 "cells": [
  {
   "cell_type": "code",
   "execution_count": null,
   "id": "af41021f",
   "metadata": {},
   "outputs": [],
   "source": [
    "# ANALIZA SKŁADA SIĘ Z TRZECH BLOKÓW\n",
    "# I. Interpretacja data-setu\n",
    "# II. Definicje i opis zbiorów danych\n",
    "# III. Wizualizacje odpowiedzi na zadane problemy"
   ]
  },
  {
   "cell_type": "code",
   "execution_count": 2,
   "id": "aaac6497",
   "metadata": {},
   "outputs": [
    {
     "name": "stdout",
     "output_type": "stream",
     "text": [
      "\n"
     ]
    }
   ],
   "source": [
    "print()"
   ]
  },
  {
   "cell_type": "code",
   "execution_count": null,
   "id": "e8bf5238",
   "metadata": {},
   "outputs": [],
   "source": []
  }
 ],
 "metadata": {
  "kernelspec": {
   "display_name": "Python 3 (ipykernel)",
   "language": "python",
   "name": "python3"
  },
  "language_info": {
   "codemirror_mode": {
    "name": "ipython",
    "version": 3
   },
   "file_extension": ".py",
   "mimetype": "text/x-python",
   "name": "python",
   "nbconvert_exporter": "python",
   "pygments_lexer": "ipython3",
   "version": "3.10.6"
  }
 },
 "nbformat": 4,
 "nbformat_minor": 5
}
