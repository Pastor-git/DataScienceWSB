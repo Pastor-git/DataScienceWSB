{
 "cells": [
  {
   "cell_type": "code",
   "execution_count": 1,
   "id": "7431a124",
   "metadata": {},
   "outputs": [
    {
     "name": "stdout",
     "output_type": "stream",
     "text": [
      "hi\n"
     ]
    }
   ],
   "source": [
    "print(\"hi\")"
   ]
  },
  {
   "cell_type": "code",
   "execution_count": 6,
   "id": "3b5e792d",
   "metadata": {},
   "outputs": [],
   "source": [
    "import pandas as pd"
   ]
  },
  {
   "cell_type": "code",
   "execution_count": 7,
   "id": "56e0fe6f",
   "metadata": {},
   "outputs": [
    {
     "name": "stderr",
     "output_type": "stream",
     "text": [
      "/tmp/ipykernel_70272/571042000.py:1: DtypeWarning: Columns (3) have mixed types. Specify dtype option on import or set low_memory=False.\n",
      "  df = pd.read_csv('./nypd-motor-vehicle-collisions.csv')\n"
     ]
    }
   ],
   "source": [
    "df = pd.read_csv('./nypd-motor-vehicle-collisions.csv')"
   ]
  },
  {
   "cell_type": "code",
   "execution_count": 8,
   "id": "e1e71e05",
   "metadata": {},
   "outputs": [
    {
     "name": "stdout",
     "output_type": "stream",
     "text": [
      "                   ACCIDENT DATE ACCIDENT TIME    BOROUGH ZIP CODE   LATITUDE  \\\n",
      "0        2019-08-05T00:00:00.000         16:30     QUEENS  11434.0  40.676052   \n",
      "1        2019-08-27T00:00:00.000         16:02   BROOKLYN  11225.0  40.657780   \n",
      "2        2019-08-15T00:00:00.000         17:57  MANHATTAN  10002.0  40.718143   \n",
      "3        2019-08-30T00:00:00.000         21:53      BRONX  10460.0  40.840534   \n",
      "4        2019-08-06T00:00:00.000          9:45  MANHATTAN  10016.0  40.745440   \n",
      "...                          ...           ...        ...      ...        ...   \n",
      "1612173  2012-07-21T00:00:00.000         22:46   BROOKLYN  11226.0  40.651741   \n",
      "1612174  2012-07-09T00:00:00.000         16:45        NaN      NaN        NaN   \n",
      "1612175  2012-07-09T00:00:00.000         14:35        NaN      NaN  40.791492   \n",
      "1612176  2012-07-18T00:00:00.000          9:20  MANHATTAN  10024.0  40.779479   \n",
      "1612177  2012-07-12T00:00:00.000          3:10     QUEENS  11361.0  40.762501   \n",
      "\n",
      "         LONGITUDE                                           LOCATION  \\\n",
      "0       -73.790184  {'type': 'Point', 'coordinates': [-73.790184, ...   \n",
      "1       -73.951096  {'type': 'Point', 'coordinates': [-73.951096, ...   \n",
      "2       -73.993835  {'type': 'Point', 'coordinates': [-73.993835, ...   \n",
      "3       -73.866610  {'type': 'Point', 'coordinates': [-73.86661, 4...   \n",
      "4       -73.975400  {'type': 'Point', 'coordinates': [-73.9754, 40...   \n",
      "...            ...                                                ...   \n",
      "1612173 -73.965241  {'type': 'Point', 'coordinates': [-73.9652409,...   \n",
      "1612174        NaN                                                NaN   \n",
      "1612175 -73.935763  {'type': 'Point', 'coordinates': [-73.935763, ...   \n",
      "1612176 -73.973573  {'type': 'Point', 'coordinates': [-73.9735729,...   \n",
      "1612177 -73.782522  {'type': 'Point', 'coordinates': [-73.7825216,...   \n",
      "\n",
      "                           ON STREET NAME                 CROSS STREET NAME  \\\n",
      "0                                     NaN                               NaN   \n",
      "1                                     NaN                               NaN   \n",
      "2        CHRYSTIE STREET                                       GRAND STREET   \n",
      "3                                     NaN                               NaN   \n",
      "4        EAST 35 STREET                                            2 AVENUE   \n",
      "...                                   ...                               ...   \n",
      "1612173  PARADE PLACE                      CROOKE AVENUE                      \n",
      "1612174  EDWARD L GRANT HIGHWAY            WEST 169 STREET                    \n",
      "1612175                               NaN                               NaN   \n",
      "1612176  CENTRAL PARK WEST                 WEST 77 STREET                     \n",
      "1612177  39 AVENUE                         203 STREET                         \n",
      "\n",
      "                                  OFF STREET NAME  ...  \\\n",
      "0        150-08    123 AVENUE                      ...   \n",
      "1        288       HAWTHORNE STREET                ...   \n",
      "2                                             NaN  ...   \n",
      "3        1837      EAST TREMONT AVENUE             ...   \n",
      "4                                             NaN  ...   \n",
      "...                                           ...  ...   \n",
      "1612173                                       NaN  ...   \n",
      "1612174                                       NaN  ...   \n",
      "1612175                                       NaN  ...   \n",
      "1612176                                       NaN  ...   \n",
      "1612177                                       NaN  ...   \n",
      "\n",
      "          CONTRIBUTING FACTOR VEHICLE 2  CONTRIBUTING FACTOR VEHICLE 3  \\\n",
      "0                           Unspecified                            NaN   \n",
      "1                           Unspecified                            NaN   \n",
      "2                                   NaN                            NaN   \n",
      "3                           Unspecified                            NaN   \n",
      "4        Driver Inattention/Distraction                            NaN   \n",
      "...                                 ...                            ...   \n",
      "1612173                     Unspecified                            NaN   \n",
      "1612174                 Fatigued/Drowsy                    Unspecified   \n",
      "1612175                     Unspecified                            NaN   \n",
      "1612176                     Unspecified                    Unspecified   \n",
      "1612177                             NaN                            NaN   \n",
      "\n",
      "         CONTRIBUTING FACTOR VEHICLE 4  CONTRIBUTING FACTOR VEHICLE 5  \\\n",
      "0                                  NaN                            NaN   \n",
      "1                                  NaN                            NaN   \n",
      "2                                  NaN                            NaN   \n",
      "3                                  NaN                            NaN   \n",
      "4                                  NaN                            NaN   \n",
      "...                                ...                            ...   \n",
      "1612173                            NaN                            NaN   \n",
      "1612174                            NaN                            NaN   \n",
      "1612175                            NaN                            NaN   \n",
      "1612176                            NaN                            NaN   \n",
      "1612177                            NaN                            NaN   \n",
      "\n",
      "         COLLISION_ID                  VEHICLE TYPE CODE 1  \\\n",
      "0             4184637                                Sedan   \n",
      "1             4195773  Station Wagon/Sport Utility Vehicle   \n",
      "2             4202457                                Sedan   \n",
      "3             4198749                                 Taxi   \n",
      "4             4183798  Station Wagon/Sport Utility Vehicle   \n",
      "...               ...                                  ...   \n",
      "1612173        147595        SPORT UTILITY / STATION WAGON   \n",
      "1612174         85220                    PASSENGER VEHICLE   \n",
      "1612175       2853431                    PASSENGER VEHICLE   \n",
      "1612176         52405        SPORT UTILITY / STATION WAGON   \n",
      "1612177        259445                    PASSENGER VEHICLE   \n",
      "\n",
      "                         VEHICLE TYPE CODE 2  VEHICLE TYPE CODE 3  \\\n",
      "0                              Pick-up Truck                  NaN   \n",
      "1        Station Wagon/Sport Utility Vehicle                  NaN   \n",
      "2                                        NaN                  NaN   \n",
      "3        Station Wagon/Sport Utility Vehicle                  NaN   \n",
      "4                                       Bike                  NaN   \n",
      "...                                      ...                  ...   \n",
      "1612173                              UNKNOWN                  NaN   \n",
      "1612174                       LIVERY VEHICLE    PASSENGER VEHICLE   \n",
      "1612175                    PASSENGER VEHICLE                  NaN   \n",
      "1612176                                  VAN                  BUS   \n",
      "1612177                                  NaN                  NaN   \n",
      "\n",
      "        VEHICLE TYPE CODE 4 VEHICLE TYPE CODE 5  \n",
      "0                       NaN                 NaN  \n",
      "1                       NaN                 NaN  \n",
      "2                       NaN                 NaN  \n",
      "3                       NaN                 NaN  \n",
      "4                       NaN                 NaN  \n",
      "...                     ...                 ...  \n",
      "1612173                 NaN                 NaN  \n",
      "1612174                 NaN                 NaN  \n",
      "1612175                 NaN                 NaN  \n",
      "1612176                 NaN                 NaN  \n",
      "1612177                 NaN                 NaN  \n",
      "\n",
      "[1612178 rows x 29 columns]\n"
     ]
    }
   ],
   "source": [
    "print(df)"
   ]
  },
  {
   "cell_type": "code",
   "execution_count": 11,
   "id": "aa111d4d",
   "metadata": {},
   "outputs": [
    {
     "name": "stdout",
     "output_type": "stream",
     "text": [
      "['ACCIDENT DATE', 'ACCIDENT TIME', 'BOROUGH', 'ZIP CODE', 'LATITUDE', 'LONGITUDE', 'LOCATION', 'ON STREET NAME', 'CROSS STREET NAME', 'OFF STREET NAME', 'NUMBER OF PERSONS INJURED', 'NUMBER OF PERSONS KILLED', 'NUMBER OF PEDESTRIANS INJURED', 'NUMBER OF PEDESTRIANS KILLED', 'NUMBER OF CYCLIST INJURED', 'NUMBER OF CYCLIST KILLED', 'NUMBER OF MOTORIST INJURED', 'NUMBER OF MOTORIST KILLED', 'CONTRIBUTING FACTOR VEHICLE 1', 'CONTRIBUTING FACTOR VEHICLE 2', 'CONTRIBUTING FACTOR VEHICLE 3', 'CONTRIBUTING FACTOR VEHICLE 4', 'CONTRIBUTING FACTOR VEHICLE 5', 'COLLISION_ID', 'VEHICLE TYPE CODE 1', 'VEHICLE TYPE CODE 2', 'VEHICLE TYPE CODE 3', 'VEHICLE TYPE CODE 4', 'VEHICLE TYPE CODE 5']\n"
     ]
    }
   ],
   "source": [
    "print(df.columns.tolist())"
   ]
  },
  {
   "cell_type": "code",
   "execution_count": 13,
   "id": "23c7d291",
   "metadata": {},
   "outputs": [
    {
     "name": "stderr",
     "output_type": "stream",
     "text": [
      "IOPub data rate exceeded.\n",
      "The notebook server will temporarily stop sending output\n",
      "to the client in order to avoid crashing it.\n",
      "To change this limit, set the config variable\n",
      "`--NotebookApp.iopub_data_rate_limit`.\n",
      "\n",
      "Current values:\n",
      "NotebookApp.iopub_data_rate_limit=1000000.0 (bytes/sec)\n",
      "NotebookApp.rate_limit_window=3.0 (secs)\n",
      "\n"
     ]
    }
   ],
   "source": [
    "print(df.iloc[:, 0].tolist())"
   ]
  },
  {
   "cell_type": "code",
   "execution_count": 12,
   "id": "729418f5",
   "metadata": {},
   "outputs": [],
   "source": [
    "list = df.columns.tolist()"
   ]
  },
  {
   "cell_type": "code",
   "execution_count": 14,
   "id": "2b54f548",
   "metadata": {},
   "outputs": [
    {
     "name": "stdout",
     "output_type": "stream",
     "text": [
      "1612178\n"
     ]
    }
   ],
   "source": [
    "l_wierszy = df.shape[0]\n",
    "print(l_wierszy)"
   ]
  },
  {
   "cell_type": "code",
   "execution_count": 17,
   "id": "88aedeb4",
   "metadata": {},
   "outputs": [
    {
     "ename": "KeyboardInterrupt",
     "evalue": "",
     "output_type": "error",
     "traceback": [
      "\u001b[0;31m---------------------------------------------------------------------------\u001b[0m",
      "\u001b[0;31mKeyboardInterrupt\u001b[0m                         Traceback (most recent call last)",
      "Cell \u001b[0;32mIn[17], line 1\u001b[0m\n\u001b[0;32m----> 1\u001b[0m \u001b[38;5;28mprint\u001b[39m(\u001b[43mdf\u001b[49m\u001b[38;5;241;43m.\u001b[39;49m\u001b[43mto_string\u001b[49m\u001b[43m(\u001b[49m\u001b[43m)\u001b[49m)\n",
      "File \u001b[0;32m~/Documents/WSB Zadanka/DataScienceWSB/venv/lib/python3.10/site-packages/pandas/core/frame.py:1271\u001b[0m, in \u001b[0;36mDataFrame.to_string\u001b[0;34m(self, buf, columns, col_space, header, index, na_rep, formatters, float_format, sparsify, index_names, justify, max_rows, max_cols, show_dimensions, decimal, line_width, min_rows, max_colwidth, encoding)\u001b[0m\n\u001b[1;32m   1252\u001b[0m \u001b[38;5;28;01mwith\u001b[39;00m option_context(\u001b[38;5;124m\"\u001b[39m\u001b[38;5;124mdisplay.max_colwidth\u001b[39m\u001b[38;5;124m\"\u001b[39m, max_colwidth):\n\u001b[1;32m   1253\u001b[0m     formatter \u001b[38;5;241m=\u001b[39m fmt\u001b[38;5;241m.\u001b[39mDataFrameFormatter(\n\u001b[1;32m   1254\u001b[0m         \u001b[38;5;28mself\u001b[39m,\n\u001b[1;32m   1255\u001b[0m         columns\u001b[38;5;241m=\u001b[39mcolumns,\n\u001b[0;32m   (...)\u001b[0m\n\u001b[1;32m   1269\u001b[0m         decimal\u001b[38;5;241m=\u001b[39mdecimal,\n\u001b[1;32m   1270\u001b[0m     )\n\u001b[0;32m-> 1271\u001b[0m     \u001b[38;5;28;01mreturn\u001b[39;00m \u001b[43mfmt\u001b[49m\u001b[38;5;241;43m.\u001b[39;49m\u001b[43mDataFrameRenderer\u001b[49m\u001b[43m(\u001b[49m\u001b[43mformatter\u001b[49m\u001b[43m)\u001b[49m\u001b[38;5;241;43m.\u001b[39;49m\u001b[43mto_string\u001b[49m\u001b[43m(\u001b[49m\n\u001b[1;32m   1272\u001b[0m \u001b[43m        \u001b[49m\u001b[43mbuf\u001b[49m\u001b[38;5;241;43m=\u001b[39;49m\u001b[43mbuf\u001b[49m\u001b[43m,\u001b[49m\n\u001b[1;32m   1273\u001b[0m \u001b[43m        \u001b[49m\u001b[43mencoding\u001b[49m\u001b[38;5;241;43m=\u001b[39;49m\u001b[43mencoding\u001b[49m\u001b[43m,\u001b[49m\n\u001b[1;32m   1274\u001b[0m \u001b[43m        \u001b[49m\u001b[43mline_width\u001b[49m\u001b[38;5;241;43m=\u001b[39;49m\u001b[43mline_width\u001b[49m\u001b[43m,\u001b[49m\n\u001b[1;32m   1275\u001b[0m \u001b[43m    \u001b[49m\u001b[43m)\u001b[49m\n",
      "File \u001b[0;32m~/Documents/WSB Zadanka/DataScienceWSB/venv/lib/python3.10/site-packages/pandas/io/formats/format.py:1134\u001b[0m, in \u001b[0;36mDataFrameRenderer.to_string\u001b[0;34m(self, buf, encoding, line_width)\u001b[0m\n\u001b[1;32m   1131\u001b[0m \u001b[38;5;28;01mfrom\u001b[39;00m \u001b[38;5;21;01mpandas\u001b[39;00m\u001b[38;5;21;01m.\u001b[39;00m\u001b[38;5;21;01mio\u001b[39;00m\u001b[38;5;21;01m.\u001b[39;00m\u001b[38;5;21;01mformats\u001b[39;00m\u001b[38;5;21;01m.\u001b[39;00m\u001b[38;5;21;01mstring\u001b[39;00m \u001b[38;5;28;01mimport\u001b[39;00m StringFormatter\n\u001b[1;32m   1133\u001b[0m string_formatter \u001b[38;5;241m=\u001b[39m StringFormatter(\u001b[38;5;28mself\u001b[39m\u001b[38;5;241m.\u001b[39mfmt, line_width\u001b[38;5;241m=\u001b[39mline_width)\n\u001b[0;32m-> 1134\u001b[0m string \u001b[38;5;241m=\u001b[39m \u001b[43mstring_formatter\u001b[49m\u001b[38;5;241;43m.\u001b[39;49m\u001b[43mto_string\u001b[49m\u001b[43m(\u001b[49m\u001b[43m)\u001b[49m\n\u001b[1;32m   1135\u001b[0m \u001b[38;5;28;01mreturn\u001b[39;00m save_to_buffer(string, buf\u001b[38;5;241m=\u001b[39mbuf, encoding\u001b[38;5;241m=\u001b[39mencoding)\n",
      "File \u001b[0;32m~/Documents/WSB Zadanka/DataScienceWSB/venv/lib/python3.10/site-packages/pandas/io/formats/string.py:30\u001b[0m, in \u001b[0;36mStringFormatter.to_string\u001b[0;34m(self)\u001b[0m\n\u001b[1;32m     29\u001b[0m \u001b[38;5;28;01mdef\u001b[39;00m \u001b[38;5;21mto_string\u001b[39m(\u001b[38;5;28mself\u001b[39m) \u001b[38;5;241m-\u001b[39m\u001b[38;5;241m>\u001b[39m \u001b[38;5;28mstr\u001b[39m:\n\u001b[0;32m---> 30\u001b[0m     text \u001b[38;5;241m=\u001b[39m \u001b[38;5;28;43mself\u001b[39;49m\u001b[38;5;241;43m.\u001b[39;49m\u001b[43m_get_string_representation\u001b[49m\u001b[43m(\u001b[49m\u001b[43m)\u001b[49m\n\u001b[1;32m     31\u001b[0m     \u001b[38;5;28;01mif\u001b[39;00m \u001b[38;5;28mself\u001b[39m\u001b[38;5;241m.\u001b[39mfmt\u001b[38;5;241m.\u001b[39mshould_show_dimensions:\n\u001b[1;32m     32\u001b[0m         text \u001b[38;5;241m=\u001b[39m \u001b[38;5;124m\"\u001b[39m\u001b[38;5;124m\"\u001b[39m\u001b[38;5;241m.\u001b[39mjoin([text, \u001b[38;5;28mself\u001b[39m\u001b[38;5;241m.\u001b[39mfmt\u001b[38;5;241m.\u001b[39mdimensions_info])\n",
      "File \u001b[0;32m~/Documents/WSB Zadanka/DataScienceWSB/venv/lib/python3.10/site-packages/pandas/io/formats/string.py:45\u001b[0m, in \u001b[0;36mStringFormatter._get_string_representation\u001b[0;34m(self)\u001b[0m\n\u001b[1;32m     42\u001b[0m \u001b[38;5;28;01mif\u001b[39;00m \u001b[38;5;28mself\u001b[39m\u001b[38;5;241m.\u001b[39mfmt\u001b[38;5;241m.\u001b[39mframe\u001b[38;5;241m.\u001b[39mempty:\n\u001b[1;32m     43\u001b[0m     \u001b[38;5;28;01mreturn\u001b[39;00m \u001b[38;5;28mself\u001b[39m\u001b[38;5;241m.\u001b[39m_empty_info_line\n\u001b[0;32m---> 45\u001b[0m strcols \u001b[38;5;241m=\u001b[39m \u001b[38;5;28;43mself\u001b[39;49m\u001b[38;5;241;43m.\u001b[39;49m\u001b[43m_get_strcols\u001b[49m\u001b[43m(\u001b[49m\u001b[43m)\u001b[49m\n\u001b[1;32m     47\u001b[0m \u001b[38;5;28;01mif\u001b[39;00m \u001b[38;5;28mself\u001b[39m\u001b[38;5;241m.\u001b[39mline_width \u001b[38;5;129;01mis\u001b[39;00m \u001b[38;5;28;01mNone\u001b[39;00m:\n\u001b[1;32m     48\u001b[0m     \u001b[38;5;66;03m# no need to wrap around just print the whole frame\u001b[39;00m\n\u001b[1;32m     49\u001b[0m     \u001b[38;5;28;01mreturn\u001b[39;00m \u001b[38;5;28mself\u001b[39m\u001b[38;5;241m.\u001b[39madj\u001b[38;5;241m.\u001b[39madjoin(\u001b[38;5;241m1\u001b[39m, \u001b[38;5;241m*\u001b[39mstrcols)\n",
      "File \u001b[0;32m~/Documents/WSB Zadanka/DataScienceWSB/venv/lib/python3.10/site-packages/pandas/io/formats/string.py:36\u001b[0m, in \u001b[0;36mStringFormatter._get_strcols\u001b[0;34m(self)\u001b[0m\n\u001b[1;32m     35\u001b[0m \u001b[38;5;28;01mdef\u001b[39;00m \u001b[38;5;21m_get_strcols\u001b[39m(\u001b[38;5;28mself\u001b[39m) \u001b[38;5;241m-\u001b[39m\u001b[38;5;241m>\u001b[39m \u001b[38;5;28mlist\u001b[39m[\u001b[38;5;28mlist\u001b[39m[\u001b[38;5;28mstr\u001b[39m]]:\n\u001b[0;32m---> 36\u001b[0m     strcols \u001b[38;5;241m=\u001b[39m \u001b[38;5;28;43mself\u001b[39;49m\u001b[38;5;241;43m.\u001b[39;49m\u001b[43mfmt\u001b[49m\u001b[38;5;241;43m.\u001b[39;49m\u001b[43mget_strcols\u001b[49m\u001b[43m(\u001b[49m\u001b[43m)\u001b[49m\n\u001b[1;32m     37\u001b[0m     \u001b[38;5;28;01mif\u001b[39;00m \u001b[38;5;28mself\u001b[39m\u001b[38;5;241m.\u001b[39mfmt\u001b[38;5;241m.\u001b[39mis_truncated:\n\u001b[1;32m     38\u001b[0m         strcols \u001b[38;5;241m=\u001b[39m \u001b[38;5;28mself\u001b[39m\u001b[38;5;241m.\u001b[39m_insert_dot_separators(strcols)\n",
      "File \u001b[0;32m~/Documents/WSB Zadanka/DataScienceWSB/venv/lib/python3.10/site-packages/pandas/io/formats/format.py:615\u001b[0m, in \u001b[0;36mDataFrameFormatter.get_strcols\u001b[0;34m(self)\u001b[0m\n\u001b[1;32m    611\u001b[0m \u001b[38;5;28;01mdef\u001b[39;00m \u001b[38;5;21mget_strcols\u001b[39m(\u001b[38;5;28mself\u001b[39m) \u001b[38;5;241m-\u001b[39m\u001b[38;5;241m>\u001b[39m \u001b[38;5;28mlist\u001b[39m[\u001b[38;5;28mlist\u001b[39m[\u001b[38;5;28mstr\u001b[39m]]:\n\u001b[1;32m    612\u001b[0m \u001b[38;5;250m    \u001b[39m\u001b[38;5;124;03m\"\"\"\u001b[39;00m\n\u001b[1;32m    613\u001b[0m \u001b[38;5;124;03m    Render a DataFrame to a list of columns (as lists of strings).\u001b[39;00m\n\u001b[1;32m    614\u001b[0m \u001b[38;5;124;03m    \"\"\"\u001b[39;00m\n\u001b[0;32m--> 615\u001b[0m     strcols \u001b[38;5;241m=\u001b[39m \u001b[38;5;28;43mself\u001b[39;49m\u001b[38;5;241;43m.\u001b[39;49m\u001b[43m_get_strcols_without_index\u001b[49m\u001b[43m(\u001b[49m\u001b[43m)\u001b[49m\n\u001b[1;32m    617\u001b[0m     \u001b[38;5;28;01mif\u001b[39;00m \u001b[38;5;28mself\u001b[39m\u001b[38;5;241m.\u001b[39mindex:\n\u001b[1;32m    618\u001b[0m         str_index \u001b[38;5;241m=\u001b[39m \u001b[38;5;28mself\u001b[39m\u001b[38;5;241m.\u001b[39m_get_formatted_index(\u001b[38;5;28mself\u001b[39m\u001b[38;5;241m.\u001b[39mtr_frame)\n",
      "File \u001b[0;32m~/Documents/WSB Zadanka/DataScienceWSB/venv/lib/python3.10/site-packages/pandas/io/formats/format.py:881\u001b[0m, in \u001b[0;36mDataFrameFormatter._get_strcols_without_index\u001b[0;34m(self)\u001b[0m\n\u001b[1;32m    877\u001b[0m cheader \u001b[38;5;241m=\u001b[39m str_columns[i]\n\u001b[1;32m    878\u001b[0m header_colwidth \u001b[38;5;241m=\u001b[39m \u001b[38;5;28mmax\u001b[39m(\n\u001b[1;32m    879\u001b[0m     \u001b[38;5;28mint\u001b[39m(\u001b[38;5;28mself\u001b[39m\u001b[38;5;241m.\u001b[39mcol_space\u001b[38;5;241m.\u001b[39mget(c, \u001b[38;5;241m0\u001b[39m)), \u001b[38;5;241m*\u001b[39m(\u001b[38;5;28mself\u001b[39m\u001b[38;5;241m.\u001b[39madj\u001b[38;5;241m.\u001b[39mlen(x) \u001b[38;5;28;01mfor\u001b[39;00m x \u001b[38;5;129;01min\u001b[39;00m cheader)\n\u001b[1;32m    880\u001b[0m )\n\u001b[0;32m--> 881\u001b[0m fmt_values \u001b[38;5;241m=\u001b[39m \u001b[38;5;28;43mself\u001b[39;49m\u001b[38;5;241;43m.\u001b[39;49m\u001b[43mformat_col\u001b[49m\u001b[43m(\u001b[49m\u001b[43mi\u001b[49m\u001b[43m)\u001b[49m\n\u001b[1;32m    882\u001b[0m fmt_values \u001b[38;5;241m=\u001b[39m _make_fixed_width(\n\u001b[1;32m    883\u001b[0m     fmt_values, \u001b[38;5;28mself\u001b[39m\u001b[38;5;241m.\u001b[39mjustify, minimum\u001b[38;5;241m=\u001b[39mheader_colwidth, adj\u001b[38;5;241m=\u001b[39m\u001b[38;5;28mself\u001b[39m\u001b[38;5;241m.\u001b[39madj\n\u001b[1;32m    884\u001b[0m )\n\u001b[1;32m    886\u001b[0m max_len \u001b[38;5;241m=\u001b[39m \u001b[38;5;28mmax\u001b[39m(\u001b[38;5;28mmax\u001b[39m(\u001b[38;5;28mself\u001b[39m\u001b[38;5;241m.\u001b[39madj\u001b[38;5;241m.\u001b[39mlen(x) \u001b[38;5;28;01mfor\u001b[39;00m x \u001b[38;5;129;01min\u001b[39;00m fmt_values), header_colwidth)\n",
      "File \u001b[0;32m~/Documents/WSB Zadanka/DataScienceWSB/venv/lib/python3.10/site-packages/pandas/io/formats/format.py:895\u001b[0m, in \u001b[0;36mDataFrameFormatter.format_col\u001b[0;34m(self, i)\u001b[0m\n\u001b[1;32m    893\u001b[0m frame \u001b[38;5;241m=\u001b[39m \u001b[38;5;28mself\u001b[39m\u001b[38;5;241m.\u001b[39mtr_frame\n\u001b[1;32m    894\u001b[0m formatter \u001b[38;5;241m=\u001b[39m \u001b[38;5;28mself\u001b[39m\u001b[38;5;241m.\u001b[39m_get_formatter(i)\n\u001b[0;32m--> 895\u001b[0m \u001b[38;5;28;01mreturn\u001b[39;00m \u001b[43mformat_array\u001b[49m\u001b[43m(\u001b[49m\n\u001b[1;32m    896\u001b[0m \u001b[43m    \u001b[49m\u001b[43mframe\u001b[49m\u001b[38;5;241;43m.\u001b[39;49m\u001b[43miloc\u001b[49m\u001b[43m[\u001b[49m\u001b[43m:\u001b[49m\u001b[43m,\u001b[49m\u001b[43m \u001b[49m\u001b[43mi\u001b[49m\u001b[43m]\u001b[49m\u001b[38;5;241;43m.\u001b[39;49m\u001b[43m_values\u001b[49m\u001b[43m,\u001b[49m\n\u001b[1;32m    897\u001b[0m \u001b[43m    \u001b[49m\u001b[43mformatter\u001b[49m\u001b[43m,\u001b[49m\n\u001b[1;32m    898\u001b[0m \u001b[43m    \u001b[49m\u001b[43mfloat_format\u001b[49m\u001b[38;5;241;43m=\u001b[39;49m\u001b[38;5;28;43mself\u001b[39;49m\u001b[38;5;241;43m.\u001b[39;49m\u001b[43mfloat_format\u001b[49m\u001b[43m,\u001b[49m\n\u001b[1;32m    899\u001b[0m \u001b[43m    \u001b[49m\u001b[43mna_rep\u001b[49m\u001b[38;5;241;43m=\u001b[39;49m\u001b[38;5;28;43mself\u001b[39;49m\u001b[38;5;241;43m.\u001b[39;49m\u001b[43mna_rep\u001b[49m\u001b[43m,\u001b[49m\n\u001b[1;32m    900\u001b[0m \u001b[43m    \u001b[49m\u001b[43mspace\u001b[49m\u001b[38;5;241;43m=\u001b[39;49m\u001b[38;5;28;43mself\u001b[39;49m\u001b[38;5;241;43m.\u001b[39;49m\u001b[43mcol_space\u001b[49m\u001b[38;5;241;43m.\u001b[39;49m\u001b[43mget\u001b[49m\u001b[43m(\u001b[49m\u001b[43mframe\u001b[49m\u001b[38;5;241;43m.\u001b[39;49m\u001b[43mcolumns\u001b[49m\u001b[43m[\u001b[49m\u001b[43mi\u001b[49m\u001b[43m]\u001b[49m\u001b[43m)\u001b[49m\u001b[43m,\u001b[49m\n\u001b[1;32m    901\u001b[0m \u001b[43m    \u001b[49m\u001b[43mdecimal\u001b[49m\u001b[38;5;241;43m=\u001b[39;49m\u001b[38;5;28;43mself\u001b[39;49m\u001b[38;5;241;43m.\u001b[39;49m\u001b[43mdecimal\u001b[49m\u001b[43m,\u001b[49m\n\u001b[1;32m    902\u001b[0m \u001b[43m    \u001b[49m\u001b[43mleading_space\u001b[49m\u001b[38;5;241;43m=\u001b[39;49m\u001b[38;5;28;43mself\u001b[39;49m\u001b[38;5;241;43m.\u001b[39;49m\u001b[43mindex\u001b[49m\u001b[43m,\u001b[49m\n\u001b[1;32m    903\u001b[0m \u001b[43m\u001b[49m\u001b[43m)\u001b[49m\n",
      "File \u001b[0;32m~/Documents/WSB Zadanka/DataScienceWSB/venv/lib/python3.10/site-packages/pandas/io/formats/format.py:1330\u001b[0m, in \u001b[0;36mformat_array\u001b[0;34m(values, formatter, float_format, na_rep, digits, space, justify, decimal, leading_space, quoting, fallback_formatter)\u001b[0m\n\u001b[1;32m   1314\u001b[0m     digits \u001b[38;5;241m=\u001b[39m get_option(\u001b[38;5;124m\"\u001b[39m\u001b[38;5;124mdisplay.precision\u001b[39m\u001b[38;5;124m\"\u001b[39m)\n\u001b[1;32m   1316\u001b[0m fmt_obj \u001b[38;5;241m=\u001b[39m fmt_klass(\n\u001b[1;32m   1317\u001b[0m     values,\n\u001b[1;32m   1318\u001b[0m     digits\u001b[38;5;241m=\u001b[39mdigits,\n\u001b[0;32m   (...)\u001b[0m\n\u001b[1;32m   1327\u001b[0m     fallback_formatter\u001b[38;5;241m=\u001b[39mfallback_formatter,\n\u001b[1;32m   1328\u001b[0m )\n\u001b[0;32m-> 1330\u001b[0m \u001b[38;5;28;01mreturn\u001b[39;00m \u001b[43mfmt_obj\u001b[49m\u001b[38;5;241;43m.\u001b[39;49m\u001b[43mget_result\u001b[49m\u001b[43m(\u001b[49m\u001b[43m)\u001b[49m\n",
      "File \u001b[0;32m~/Documents/WSB Zadanka/DataScienceWSB/venv/lib/python3.10/site-packages/pandas/io/formats/format.py:1363\u001b[0m, in \u001b[0;36mGenericArrayFormatter.get_result\u001b[0;34m(self)\u001b[0m\n\u001b[1;32m   1362\u001b[0m \u001b[38;5;28;01mdef\u001b[39;00m \u001b[38;5;21mget_result\u001b[39m(\u001b[38;5;28mself\u001b[39m) \u001b[38;5;241m-\u001b[39m\u001b[38;5;241m>\u001b[39m \u001b[38;5;28mlist\u001b[39m[\u001b[38;5;28mstr\u001b[39m]:\n\u001b[0;32m-> 1363\u001b[0m     fmt_values \u001b[38;5;241m=\u001b[39m \u001b[38;5;28;43mself\u001b[39;49m\u001b[38;5;241;43m.\u001b[39;49m\u001b[43m_format_strings\u001b[49m\u001b[43m(\u001b[49m\u001b[43m)\u001b[49m\n\u001b[1;32m   1364\u001b[0m     \u001b[38;5;28;01mreturn\u001b[39;00m _make_fixed_width(fmt_values, \u001b[38;5;28mself\u001b[39m\u001b[38;5;241m.\u001b[39mjustify)\n",
      "File \u001b[0;32m~/Documents/WSB Zadanka/DataScienceWSB/venv/lib/python3.10/site-packages/pandas/io/formats/format.py:1430\u001b[0m, in \u001b[0;36mGenericArrayFormatter._format_strings\u001b[0;34m(self)\u001b[0m\n\u001b[1;32m   1428\u001b[0m \u001b[38;5;28;01mfor\u001b[39;00m i, v \u001b[38;5;129;01min\u001b[39;00m \u001b[38;5;28menumerate\u001b[39m(vals):\n\u001b[1;32m   1429\u001b[0m     \u001b[38;5;28;01mif\u001b[39;00m \u001b[38;5;129;01mnot\u001b[39;00m is_float_type[i] \u001b[38;5;129;01mand\u001b[39;00m leading_space \u001b[38;5;129;01mor\u001b[39;00m \u001b[38;5;28mself\u001b[39m\u001b[38;5;241m.\u001b[39mformatter \u001b[38;5;129;01mis\u001b[39;00m \u001b[38;5;129;01mnot\u001b[39;00m \u001b[38;5;28;01mNone\u001b[39;00m:\n\u001b[0;32m-> 1430\u001b[0m         fmt_values\u001b[38;5;241m.\u001b[39mappend(\u001b[38;5;124mf\u001b[39m\u001b[38;5;124m\"\u001b[39m\u001b[38;5;124m \u001b[39m\u001b[38;5;132;01m{\u001b[39;00m\u001b[43m_format\u001b[49m\u001b[43m(\u001b[49m\u001b[43mv\u001b[49m\u001b[43m)\u001b[49m\u001b[38;5;132;01m}\u001b[39;00m\u001b[38;5;124m\"\u001b[39m)\n\u001b[1;32m   1431\u001b[0m     \u001b[38;5;28;01melif\u001b[39;00m is_float_type[i]:\n\u001b[1;32m   1432\u001b[0m         fmt_values\u001b[38;5;241m.\u001b[39mappend(float_format(v))\n",
      "File \u001b[0;32m~/Documents/WSB Zadanka/DataScienceWSB/venv/lib/python3.10/site-packages/pandas/io/formats/format.py:1410\u001b[0m, in \u001b[0;36mGenericArrayFormatter._format_strings.<locals>._format\u001b[0;34m(x)\u001b[0m\n\u001b[1;32m   1407\u001b[0m     \u001b[38;5;28;01mreturn\u001b[39;00m \u001b[38;5;28mrepr\u001b[39m(x)\n\u001b[1;32m   1408\u001b[0m \u001b[38;5;28;01melse\u001b[39;00m:\n\u001b[1;32m   1409\u001b[0m     \u001b[38;5;66;03m# object dtype\u001b[39;00m\n\u001b[0;32m-> 1410\u001b[0m     \u001b[38;5;28;01mreturn\u001b[39;00m \u001b[38;5;28mstr\u001b[39m(\u001b[43mformatter\u001b[49m\u001b[43m(\u001b[49m\u001b[43mx\u001b[49m\u001b[43m)\u001b[49m)\n",
      "File \u001b[0;32m~/Documents/WSB Zadanka/DataScienceWSB/venv/lib/python3.10/site-packages/pandas/io/formats/printing.py:164\u001b[0m, in \u001b[0;36mpprint_thing\u001b[0;34m(thing, _nest_lvl, escape_chars, default_escapes, quote_strings, max_seq_items)\u001b[0m\n\u001b[1;32m    160\u001b[0m     \u001b[38;5;28;01melse\u001b[39;00m:\n\u001b[1;32m    161\u001b[0m         \u001b[38;5;28;01mreturn\u001b[39;00m fmt\u001b[38;5;241m.\u001b[39mformat(things\u001b[38;5;241m=\u001b[39m\u001b[38;5;124m\"\u001b[39m\u001b[38;5;124m, \u001b[39m\u001b[38;5;124m\"\u001b[39m\u001b[38;5;241m.\u001b[39mjoin(pairs))\n\u001b[0;32m--> 164\u001b[0m \u001b[38;5;28;01mdef\u001b[39;00m \u001b[38;5;21mpprint_thing\u001b[39m(\n\u001b[1;32m    165\u001b[0m     thing: Any,\n\u001b[1;32m    166\u001b[0m     _nest_lvl: \u001b[38;5;28mint\u001b[39m \u001b[38;5;241m=\u001b[39m \u001b[38;5;241m0\u001b[39m,\n\u001b[1;32m    167\u001b[0m     escape_chars: EscapeChars \u001b[38;5;241m|\u001b[39m \u001b[38;5;28;01mNone\u001b[39;00m \u001b[38;5;241m=\u001b[39m \u001b[38;5;28;01mNone\u001b[39;00m,\n\u001b[1;32m    168\u001b[0m     default_escapes: \u001b[38;5;28mbool\u001b[39m \u001b[38;5;241m=\u001b[39m \u001b[38;5;28;01mFalse\u001b[39;00m,\n\u001b[1;32m    169\u001b[0m     quote_strings: \u001b[38;5;28mbool\u001b[39m \u001b[38;5;241m=\u001b[39m \u001b[38;5;28;01mFalse\u001b[39;00m,\n\u001b[1;32m    170\u001b[0m     max_seq_items: \u001b[38;5;28mint\u001b[39m \u001b[38;5;241m|\u001b[39m \u001b[38;5;28;01mNone\u001b[39;00m \u001b[38;5;241m=\u001b[39m \u001b[38;5;28;01mNone\u001b[39;00m,\n\u001b[1;32m    171\u001b[0m ) \u001b[38;5;241m-\u001b[39m\u001b[38;5;241m>\u001b[39m \u001b[38;5;28mstr\u001b[39m:\n\u001b[1;32m    172\u001b[0m \u001b[38;5;250m    \u001b[39m\u001b[38;5;124;03m\"\"\"\u001b[39;00m\n\u001b[1;32m    173\u001b[0m \u001b[38;5;124;03m    This function is the sanctioned way of converting objects\u001b[39;00m\n\u001b[1;32m    174\u001b[0m \u001b[38;5;124;03m    to a string representation and properly handles nested sequences.\u001b[39;00m\n\u001b[0;32m   (...)\u001b[0m\n\u001b[1;32m    192\u001b[0m \u001b[38;5;124;03m    str\u001b[39;00m\n\u001b[1;32m    193\u001b[0m \u001b[38;5;124;03m    \"\"\"\u001b[39;00m\n\u001b[1;32m    195\u001b[0m     \u001b[38;5;28;01mdef\u001b[39;00m \u001b[38;5;21mas_escaped_string\u001b[39m(\n\u001b[1;32m    196\u001b[0m         thing: Any, escape_chars: EscapeChars \u001b[38;5;241m|\u001b[39m \u001b[38;5;28;01mNone\u001b[39;00m \u001b[38;5;241m=\u001b[39m escape_chars\n\u001b[1;32m    197\u001b[0m     ) \u001b[38;5;241m-\u001b[39m\u001b[38;5;241m>\u001b[39m \u001b[38;5;28mstr\u001b[39m:\n",
      "\u001b[0;31mKeyboardInterrupt\u001b[0m: "
     ]
    }
   ],
   "source": [
    "print(df.to_string())"
   ]
  },
  {
   "cell_type": "code",
   "execution_count": 18,
   "id": "eddb05b4",
   "metadata": {},
   "outputs": [],
   "source": [
    "import matplotlib.pyplot as plt"
   ]
  },
  {
   "cell_type": "code",
   "execution_count": null,
   "id": "d2167df6",
   "metadata": {},
   "outputs": [],
   "source": [
    "counts = df['nazwa_kolumny'].value_counts()"
   ]
  }
 ],
 "metadata": {
  "kernelspec": {
   "display_name": "Python 3 (ipykernel)",
   "language": "python",
   "name": "python3"
  },
  "language_info": {
   "codemirror_mode": {
    "name": "ipython",
    "version": 3
   },
   "file_extension": ".py",
   "mimetype": "text/x-python",
   "name": "python",
   "nbconvert_exporter": "python",
   "pygments_lexer": "ipython3",
   "version": "3.10.6"
  }
 },
 "nbformat": 4,
 "nbformat_minor": 5
}
