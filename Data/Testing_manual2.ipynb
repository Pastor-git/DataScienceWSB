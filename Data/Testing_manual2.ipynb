{
 "cells": [
  {
   "cell_type": "code",
   "execution_count": 37,
   "id": "5b983200",
   "metadata": {},
   "outputs": [
    {
     "name": "stdout",
     "output_type": "stream",
     "text": [
      "hi\n"
     ]
    }
   ],
   "source": [
    "print(\"hi\")"
   ]
  },
  {
   "cell_type": "code",
   "execution_count": 38,
   "id": "e7ab4480",
   "metadata": {},
   "outputs": [],
   "source": [
    "import pandas as pd\n",
    "import matplotlib.pyplot as plt\n",
    "import seaborn as sns"
   ]
  },
  {
   "cell_type": "code",
   "execution_count": 39,
   "id": "6ea9a59e",
   "metadata": {},
   "outputs": [],
   "source": [
    "File = './TestCSV.csv'\n",
    "File_source = '../Project/nypd-motor-vehicle-collisions.csv'"
   ]
  },
  {
   "cell_type": "code",
   "execution_count": 40,
   "id": "63faae05",
   "metadata": {},
   "outputs": [
    {
     "name": "stderr",
     "output_type": "stream",
     "text": [
      "/tmp/ipykernel_4979/77816593.py:1: DtypeWarning: Columns (3) have mixed types. Specify dtype option on import or set low_memory=False.\n",
      "  df2 = pd.read_csv(File_source)\n"
     ]
    }
   ],
   "source": [
    "df2 = pd.read_csv(File_source)"
   ]
  },
  {
   "cell_type": "code",
   "execution_count": 41,
   "id": "6ed9974a",
   "metadata": {},
   "outputs": [],
   "source": [
    "df = pd.read_csv(File)"
   ]
  },
  {
   "cell_type": "code",
   "execution_count": 56,
   "id": "f65b5fef",
   "metadata": {},
   "outputs": [
    {
     "name": "stdout",
     "output_type": "stream",
     "text": [
      "        ACCIDENT DATE ACCIDENT TIME    BOROUGH ZIP CODE   LATITUDE  LONGITUDE  \\\n",
      "0          2019-08-05         16:30     QUEENS  11434.0  40.676052 -73.790184   \n",
      "1          2019-08-27         16:02   BROOKLYN  11225.0  40.657780 -73.951096   \n",
      "2          2019-08-15         17:57  MANHATTAN  10002.0  40.718143 -73.993835   \n",
      "3          2019-08-30         21:53      BRONX  10460.0  40.840534 -73.866610   \n",
      "4          2019-08-06          9:45  MANHATTAN  10016.0  40.745440 -73.975400   \n",
      "...               ...           ...        ...      ...        ...        ...   \n",
      "1612173    2012-07-21         22:46   BROOKLYN  11226.0  40.651741 -73.965241   \n",
      "1612174    2012-07-09         16:45        NaN      NaN        NaN        NaN   \n",
      "1612175    2012-07-09         14:35        NaN      NaN  40.791492 -73.935763   \n",
      "1612176    2012-07-18          9:20  MANHATTAN  10024.0  40.779479 -73.973573   \n",
      "1612177    2012-07-12          3:10     QUEENS  11361.0  40.762501 -73.782522   \n",
      "\n",
      "                                                  LOCATION  \\\n",
      "0        {'type': 'Point', 'coordinates': [-73.790184, ...   \n",
      "1        {'type': 'Point', 'coordinates': [-73.951096, ...   \n",
      "2        {'type': 'Point', 'coordinates': [-73.993835, ...   \n",
      "3        {'type': 'Point', 'coordinates': [-73.86661, 4...   \n",
      "4        {'type': 'Point', 'coordinates': [-73.9754, 40...   \n",
      "...                                                    ...   \n",
      "1612173  {'type': 'Point', 'coordinates': [-73.9652409,...   \n",
      "1612174                                                NaN   \n",
      "1612175  {'type': 'Point', 'coordinates': [-73.935763, ...   \n",
      "1612176  {'type': 'Point', 'coordinates': [-73.9735729,...   \n",
      "1612177  {'type': 'Point', 'coordinates': [-73.7825216,...   \n",
      "\n",
      "                           ON STREET NAME                 CROSS STREET NAME  \\\n",
      "0                                     NaN                               NaN   \n",
      "1                                     NaN                               NaN   \n",
      "2        CHRYSTIE STREET                                       GRAND STREET   \n",
      "3                                     NaN                               NaN   \n",
      "4        EAST 35 STREET                                            2 AVENUE   \n",
      "...                                   ...                               ...   \n",
      "1612173  PARADE PLACE                      CROOKE AVENUE                      \n",
      "1612174  EDWARD L GRANT HIGHWAY            WEST 169 STREET                    \n",
      "1612175                               NaN                               NaN   \n",
      "1612176  CENTRAL PARK WEST                 WEST 77 STREET                     \n",
      "1612177  39 AVENUE                         203 STREET                         \n",
      "\n",
      "                                  OFF STREET NAME  ...  \\\n",
      "0        150-08    123 AVENUE                      ...   \n",
      "1        288       HAWTHORNE STREET                ...   \n",
      "2                                             NaN  ...   \n",
      "3        1837      EAST TREMONT AVENUE             ...   \n",
      "4                                             NaN  ...   \n",
      "...                                           ...  ...   \n",
      "1612173                                       NaN  ...   \n",
      "1612174                                       NaN  ...   \n",
      "1612175                                       NaN  ...   \n",
      "1612176                                       NaN  ...   \n",
      "1612177                                       NaN  ...   \n",
      "\n",
      "         CONTRIBUTING FACTOR VEHICLE 3  CONTRIBUTING FACTOR VEHICLE 4  \\\n",
      "0                                  NaN                            NaN   \n",
      "1                                  NaN                            NaN   \n",
      "2                                  NaN                            NaN   \n",
      "3                                  NaN                            NaN   \n",
      "4                                  NaN                            NaN   \n",
      "...                                ...                            ...   \n",
      "1612173                            NaN                            NaN   \n",
      "1612174                    Unspecified                            NaN   \n",
      "1612175                            NaN                            NaN   \n",
      "1612176                    Unspecified                            NaN   \n",
      "1612177                            NaN                            NaN   \n",
      "\n",
      "         CONTRIBUTING FACTOR VEHICLE 5  COLLISION_ID  \\\n",
      "0                                  NaN       4184637   \n",
      "1                                  NaN       4195773   \n",
      "2                                  NaN       4202457   \n",
      "3                                  NaN       4198749   \n",
      "4                                  NaN       4183798   \n",
      "...                                ...           ...   \n",
      "1612173                            NaN        147595   \n",
      "1612174                            NaN         85220   \n",
      "1612175                            NaN       2853431   \n",
      "1612176                            NaN         52405   \n",
      "1612177                            NaN        259445   \n",
      "\n",
      "                         VEHICLE TYPE CODE 1  \\\n",
      "0                                      Sedan   \n",
      "1        Station Wagon/Sport Utility Vehicle   \n",
      "2                                      Sedan   \n",
      "3                                       Taxi   \n",
      "4        Station Wagon/Sport Utility Vehicle   \n",
      "...                                      ...   \n",
      "1612173        SPORT UTILITY / STATION WAGON   \n",
      "1612174                    PASSENGER VEHICLE   \n",
      "1612175                    PASSENGER VEHICLE   \n",
      "1612176        SPORT UTILITY / STATION WAGON   \n",
      "1612177                    PASSENGER VEHICLE   \n",
      "\n",
      "                         VEHICLE TYPE CODE 2  VEHICLE TYPE CODE 3  \\\n",
      "0                              Pick-up Truck                  NaN   \n",
      "1        Station Wagon/Sport Utility Vehicle                  NaN   \n",
      "2                                        NaN                  NaN   \n",
      "3        Station Wagon/Sport Utility Vehicle                  NaN   \n",
      "4                                       Bike                  NaN   \n",
      "...                                      ...                  ...   \n",
      "1612173                              UNKNOWN                  NaN   \n",
      "1612174                       LIVERY VEHICLE    PASSENGER VEHICLE   \n",
      "1612175                    PASSENGER VEHICLE                  NaN   \n",
      "1612176                                  VAN                  BUS   \n",
      "1612177                                  NaN                  NaN   \n",
      "\n",
      "         VEHICLE TYPE CODE 4 VEHICLE TYPE CODE 5 DAY OF WEEK  \n",
      "0                        NaN                 NaN      Monday  \n",
      "1                        NaN                 NaN     Tuesday  \n",
      "2                        NaN                 NaN    Thursday  \n",
      "3                        NaN                 NaN      Friday  \n",
      "4                        NaN                 NaN     Tuesday  \n",
      "...                      ...                 ...         ...  \n",
      "1612173                  NaN                 NaN    Saturday  \n",
      "1612174                  NaN                 NaN      Monday  \n",
      "1612175                  NaN                 NaN      Monday  \n",
      "1612176                  NaN                 NaN   Wednesday  \n",
      "1612177                  NaN                 NaN    Thursday  \n",
      "\n",
      "[788452 rows x 30 columns]\n"
     ]
    }
   ],
   "source": [
    "print(df)"
   ]
  },
  {
   "cell_type": "code",
   "execution_count": 43,
   "id": "24bc993b",
   "metadata": {},
   "outputs": [],
   "source": [
    "# del df['COLLISION_ID']"
   ]
  },
  {
   "cell_type": "code",
   "execution_count": 44,
   "id": "74215289",
   "metadata": {},
   "outputs": [],
   "source": [
    "# nowe_dane = pd.DataFrame({'Hellow': ['hi1', 'hi2', 'hi3']})\n",
    "\n",
    "# df = pd.concat([df, nowe_dane], ignore_index=True)\n",
    "\n",
    "# df.to_csv(File, index=False)"
   ]
  },
  {
   "cell_type": "code",
   "execution_count": 45,
   "id": "3ea4d82a",
   "metadata": {},
   "outputs": [],
   "source": [
    "# # nowe_dane2 = pd.DataFrame({'Hello': ['There1','There2','There3']})\n",
    "# nowe_dane2 = pd.Series(['There1', 'There2', 'There3'], name='Hello')\n",
    "# # df = pd.concat([df, nowe_dane2], ignore_index=True)\n",
    "# df.reset_index(drop=True, inplace=True)\n",
    "# df.loc[:2, 'Hello'] = nowe_dane2.values\n",
    "# df.to_csv(File, index=False)"
   ]
  },
  {
   "cell_type": "code",
   "execution_count": 46,
   "id": "ca431736",
   "metadata": {},
   "outputs": [],
   "source": [
    "# df = pd.concat([df, df2.head(10)], ignore_index=True)"
   ]
  },
  {
   "cell_type": "code",
   "execution_count": 47,
   "id": "c3bd7563",
   "metadata": {},
   "outputs": [],
   "source": [
    "# duplicate_rows = df2[df2.duplicated(subset=['COLLISION_ID'], keep=False)]\n",
    "\n",
    "# df = duplicate_rows[['COLLISION_ID']].copy()\n",
    "\n",
    "# print(df)"
   ]
  },
  {
   "cell_type": "code",
   "execution_count": 48,
   "id": "f7d51ec1",
   "metadata": {},
   "outputs": [
    {
     "name": "stdout",
     "output_type": "stream",
     "text": [
      "Liczba pustych wierszy w kolumnie 'COLLISION_ID': 0\n"
     ]
    }
   ],
   "source": [
    "# liczba pustych kolumn\n",
    "count_empty = df2['COLLISION_ID'].isnull().sum()\n",
    "print(\"Liczba pustych wierszy w kolumnie 'COLLISION_ID':\", count_empty)"
   ]
  },
  {
   "cell_type": "code",
   "execution_count": 49,
   "id": "137beb1f",
   "metadata": {},
   "outputs": [
    {
     "name": "stdout",
     "output_type": "stream",
     "text": [
      "Liczba unikalnych wartości w kolumnie 'COLLISION_ID': 1217957\n"
     ]
    }
   ],
   "source": [
    "# nikalne wartości\n",
    "unique_values = df2['COLLISION_ID'].nunique()\n",
    "print(\"Liczba unikalnych wartości w kolumnie 'COLLISION_ID':\", unique_values)"
   ]
  },
  {
   "cell_type": "code",
   "execution_count": 50,
   "id": "c379d131",
   "metadata": {},
   "outputs": [
    {
     "name": "stdout",
     "output_type": "stream",
     "text": [
      "Łączna liczba wierszy w kolumnie 'COLLISION_ID': 1612178\n"
     ]
    }
   ],
   "source": [
    "# liczba wierszy\n",
    "total_rows = df2['COLLISION_ID'].shape[0]\n",
    "print(\"Łączna liczba wierszy w kolumnie 'COLLISION_ID':\", total_rows)"
   ]
  },
  {
   "cell_type": "code",
   "execution_count": 51,
   "id": "56c067e3",
   "metadata": {},
   "outputs": [
    {
     "name": "stdout",
     "output_type": "stream",
     "text": [
      "Liczba duplikatów w kolumnie 'COLLISION_ID': 0\n"
     ]
    }
   ],
   "source": [
    "# liczba duplikatów\n",
    "duplicate_count = df['COLLISION_ID'].duplicated().sum()\n",
    "print(\"Liczba duplikatów w kolumnie 'COLLISION_ID':\", duplicate_count)"
   ]
  },
  {
   "cell_type": "code",
   "execution_count": 52,
   "id": "bf4a7b53",
   "metadata": {},
   "outputs": [],
   "source": [
    "# df = df.drop(df.index)"
   ]
  },
  {
   "cell_type": "code",
   "execution_count": 53,
   "id": "7377104f",
   "metadata": {},
   "outputs": [],
   "source": [
    "# kopiowanie duplikatów\n",
    "df = pd.concat([df, df2[df2.duplicated(subset='COLLISION_ID', keep=False)]])"
   ]
  },
  {
   "cell_type": "code",
   "execution_count": 54,
   "id": "e7a9eb97",
   "metadata": {},
   "outputs": [],
   "source": [
    "df.to_csv(File, index=False)"
   ]
  },
  {
   "cell_type": "code",
   "execution_count": 55,
   "id": "adb2f42c",
   "metadata": {},
   "outputs": [
    {
     "data": {
      "image/png": "[encoded data removed]",
      "text/plain": [
       "<Figure size 1000x600 with 1 Axes>"
      ]
     },
     "metadata": {},
     "output_type": "display_data"
    }
   ],
   "source": [
    "# ACCIDENT DATE na typ daty i DAY OF WEEK z nazwami dni tygodnia\n",
    "df['ACCIDENT DATE'] = pd.to_datetime(df['ACCIDENT DATE'])\n",
    "df['DAY OF WEEK'] = df['ACCIDENT DATE'].dt.day_name()\n",
    "\n",
    "daily_counts = df['DAY OF WEEK'].value_counts()\n",
    "\n",
    "daily_counts = daily_counts.sort_index()\n",
    "\n",
    "# WYKRES\n",
    "plt.figure(figsize=(10, 6))\n",
    "sns.barplot(x=daily_counts.index, y=daily_counts.values, palette='viridis')\n",
    "plt.xlabel('Dzień tygodnia', fontweight='bold', color='darkblue')\n",
    "plt.ylabel('Liczba wypadków', fontweight='bold', color='darkblue')\n",
    "plt.title('Ilość wypadków z podziałem na dni tygodnia')\n",
    "\n",
    "plt.show()"
   ]
  },
  {
   "cell_type": "code",
   "execution_count": null,
   "id": "a6e520e3",
   "metadata": {},
   "outputs": [],
   "source": []
  }
 ],
 "metadata": {
  "kernelspec": {
   "display_name": "Python 3 (ipykernel)",
   "language": "python",
   "name": "python3"
  },
  "language_info": {
   "codemirror_mode": {
    "name": "ipython",
    "version": 3
   },
   "file_extension": ".py",
   "mimetype": "text/x-python",
   "name": "python",
   "nbconvert_exporter": "python",
   "pygments_lexer": "ipython3",
   "version": "3.10.6"
  }
 },
 "nbformat": 4,
 "nbformat_minor": 5
}
