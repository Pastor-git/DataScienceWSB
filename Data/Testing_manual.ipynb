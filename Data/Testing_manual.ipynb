{
 "cells": [
  {
   "cell_type": "code",
   "execution_count": 1,
   "id": "5b983200",
   "metadata": {},
   "outputs": [
    {
     "name": "stdout",
     "output_type": "stream",
     "text": [
      "hi\n"
     ]
    }
   ],
   "source": [
    "print(\"hi\")"
   ]
  },
  {
   "cell_type": "code",
   "execution_count": 29,
   "id": "e7ab4480",
   "metadata": {},
   "outputs": [],
   "source": [
    "import pandas as pd\n",
    "import matplotlib.pyplot as plt\n",
    "import seaborn as sns"
   ]
  },
  {
   "cell_type": "code",
   "execution_count": 54,
   "id": "6ea9a59e",
   "metadata": {},
   "outputs": [],
   "source": [
    "File = './TestCSV.csv'\n",
    "File_source = '../Project/nypd-motor-vehicle-collisions.csv'"
   ]
  },
  {
   "cell_type": "code",
   "execution_count": 56,
   "id": "09a4e8df",
   "metadata": {},
   "outputs": [
    {
     "name": "stderr",
     "output_type": "stream",
     "text": [
      "/tmp/ipykernel_6074/77816593.py:1: DtypeWarning: Columns (3) have mixed types. Specify dtype option on import or set low_memory=False.\n",
      "  df2 = pd.read_csv(File_source)\n"
     ]
    }
   ],
   "source": [
    "df2 = pd.read_csv(File_source)"
   ]
  },
  {
   "cell_type": "code",
   "execution_count": 57,
   "id": "6ed9974a",
   "metadata": {},
   "outputs": [],
   "source": [
    "df = pd.read_csv(File)"
   ]
  },
  {
   "cell_type": "code",
   "execution_count": 63,
   "id": "f65b5fef",
   "metadata": {},
   "outputs": [
    {
     "name": "stdout",
     "output_type": "stream",
     "text": [
      "             ACCIDENT DATE ACCIDENT TIME    BOROUGH ZIP CODE   LATITUDE  \\\n",
      "0  2019-08-05T00:00:00.000         16:30     QUEENS  11434.0  40.676052   \n",
      "1  2019-08-27T00:00:00.000         16:02   BROOKLYN  11225.0  40.657780   \n",
      "2  2019-08-15T00:00:00.000         17:57  MANHATTAN  10002.0  40.718143   \n",
      "3  2019-08-30T00:00:00.000         21:53      BRONX  10460.0  40.840534   \n",
      "4  2019-08-06T00:00:00.000          9:45  MANHATTAN  10016.0  40.745440   \n",
      "5  2019-08-29T00:00:00.000         12:28   BROOKLYN  11222.0  40.726524   \n",
      "6  2019-08-31T00:00:00.000          2:16     QUEENS  11434.0  40.667522   \n",
      "7  2019-08-11T00:00:00.000         22:23        NaN      NaN  40.858210   \n",
      "8  2019-08-02T00:00:00.000         16:30     QUEENS  11434.0  40.666492   \n",
      "9  2019-08-21T00:00:00.000         17:30      BRONX  10452.0  40.837720   \n",
      "\n",
      "   LONGITUDE                                           LOCATION  \\\n",
      "0 -73.790184  {'type': 'Point', 'coordinates': [-73.790184, ...   \n",
      "1 -73.951096  {'type': 'Point', 'coordinates': [-73.951096, ...   \n",
      "2 -73.993835  {'type': 'Point', 'coordinates': [-73.993835, ...   \n",
      "3 -73.866610  {'type': 'Point', 'coordinates': [-73.86661, 4...   \n",
      "4 -73.975400  {'type': 'Point', 'coordinates': [-73.9754, 40...   \n",
      "5 -73.946390  {'type': 'Point', 'coordinates': [-73.94639, 4...   \n",
      "6 -73.780630  {'type': 'Point', 'coordinates': [-73.78063, 4...   \n",
      "7 -73.916790  {'type': 'Point', 'coordinates': [-73.91679, 4...   \n",
      "8 -73.765360  {'type': 'Point', 'coordinates': [-73.76536, 4...   \n",
      "9 -73.927630  {'type': 'Point', 'coordinates': [-73.92763, 4...   \n",
      "\n",
      "                     ON STREET NAME     CROSS STREET NAME  \\\n",
      "0                               NaN                   NaN   \n",
      "1                               NaN                   NaN   \n",
      "2  CHRYSTIE STREET                           GRAND STREET   \n",
      "3                               NaN                   NaN   \n",
      "4  EAST 35 STREET                                2 AVENUE   \n",
      "5                               NaN                   NaN   \n",
      "6  ROCKAWAY BOULEVARD                NORTH CONDUIT AVENUE   \n",
      "7  MAJOR DEEGAN EXPRESSWAY                            NaN   \n",
      "8  SOUTH CONDUIT AVENUE                        179 STREET   \n",
      "9  WEST 167 STREET                      UNIVERSITY AVENUE   \n",
      "\n",
      "                            OFF STREET NAME  ...  \\\n",
      "0  150-08    123 AVENUE                      ...   \n",
      "1  288       HAWTHORNE STREET                ...   \n",
      "2                                       NaN  ...   \n",
      "3  1837      EAST TREMONT AVENUE             ...   \n",
      "4                                       NaN  ...   \n",
      "5  38        JEWEL STREET                    ...   \n",
      "6                                       NaN  ...   \n",
      "7                                       NaN  ...   \n",
      "8                                       NaN  ...   \n",
      "9                                       NaN  ...   \n",
      "\n",
      "    CONTRIBUTING FACTOR VEHICLE 2  CONTRIBUTING FACTOR VEHICLE 3  \\\n",
      "0                     Unspecified                            NaN   \n",
      "1                     Unspecified                            NaN   \n",
      "2                             NaN                            NaN   \n",
      "3                     Unspecified                            NaN   \n",
      "4  Driver Inattention/Distraction                            NaN   \n",
      "5                     Unspecified                            NaN   \n",
      "6                             NaN                            NaN   \n",
      "7                     Unspecified                            NaN   \n",
      "8                     Unspecified                            NaN   \n",
      "9                             NaN                            NaN   \n",
      "\n",
      "   CONTRIBUTING FACTOR VEHICLE 4  CONTRIBUTING FACTOR VEHICLE 5  COLLISION_ID  \\\n",
      "0                            NaN                            NaN       4184637   \n",
      "1                            NaN                            NaN       4195773   \n",
      "2                            NaN                            NaN       4202457   \n",
      "3                            NaN                            NaN       4198749   \n",
      "4                            NaN                            NaN       4183798   \n",
      "5                            NaN                            NaN       4196772   \n",
      "6                            NaN                            NaN       4198571   \n",
      "7                            NaN                            NaN       4187134   \n",
      "8                            NaN                            NaN       4181743   \n",
      "9                            NaN                            NaN       4198173   \n",
      "\n",
      "                   VEHICLE TYPE CODE 1                  VEHICLE TYPE CODE 2  \\\n",
      "0                                Sedan                        Pick-up Truck   \n",
      "1  Station Wagon/Sport Utility Vehicle  Station Wagon/Sport Utility Vehicle   \n",
      "2                                Sedan                                  NaN   \n",
      "3                                 Taxi  Station Wagon/Sport Utility Vehicle   \n",
      "4  Station Wagon/Sport Utility Vehicle                                 Bike   \n",
      "5  Station Wagon/Sport Utility Vehicle                                 Bike   \n",
      "6                                Sedan                                  NaN   \n",
      "7                           Motorcycle  Station Wagon/Sport Utility Vehicle   \n",
      "8                        Pick-up Truck                        Pick-up Truck   \n",
      "9                                Sedan                                  NaN   \n",
      "\n",
      "   VEHICLE TYPE CODE 3 VEHICLE TYPE CODE 4 VEHICLE TYPE CODE 5  \n",
      "0                  NaN                 NaN                 NaN  \n",
      "1                  NaN                 NaN                 NaN  \n",
      "2                  NaN                 NaN                 NaN  \n",
      "3                  NaN                 NaN                 NaN  \n",
      "4                  NaN                 NaN                 NaN  \n",
      "5                  NaN                 NaN                 NaN  \n",
      "6                  NaN                 NaN                 NaN  \n",
      "7                  NaN                 NaN                 NaN  \n",
      "8                  NaN                 NaN                 NaN  \n",
      "9                  NaN                 NaN                 NaN  \n",
      "\n",
      "[10 rows x 29 columns]\n"
     ]
    }
   ],
   "source": [
    "print(df)"
   ]
  },
  {
   "cell_type": "code",
   "execution_count": 60,
   "id": "562d1fb5",
   "metadata": {},
   "outputs": [],
   "source": [
    "del df['Hellow']"
   ]
  },
  {
   "cell_type": "code",
   "execution_count": 12,
   "id": "74215289",
   "metadata": {},
   "outputs": [],
   "source": [
    "nowe_dane = pd.DataFrame({'Hellow': ['hi1', 'hi2', 'hi3']})\n",
    "\n",
    "df = pd.concat([df, nowe_dane], ignore_index=True)\n",
    "\n",
    "df.to_csv(File, index=False)"
   ]
  },
  {
   "cell_type": "code",
   "execution_count": 24,
   "id": "3ea4d82a",
   "metadata": {},
   "outputs": [],
   "source": [
    "# nowe_dane2 = pd.DataFrame({'Hello': ['There1','There2','There3']})\n",
    "nowe_dane2 = pd.Series(['There1', 'There2', 'There3'], name='Hello')\n",
    "# df = pd.concat([df, nowe_dane2], ignore_index=True)\n",
    "df.reset_index(drop=True, inplace=True)\n",
    "df.loc[:2, 'Hello'] = nowe_dane2.values\n",
    "df.to_csv(File, index=False)"
   ]
  },
  {
   "cell_type": "code",
   "execution_count": 61,
   "id": "11f768df",
   "metadata": {},
   "outputs": [],
   "source": [
    "df = df.drop(df.index)"
   ]
  },
  {
   "cell_type": "code",
   "execution_count": 62,
   "id": "ca431736",
   "metadata": {},
   "outputs": [],
   "source": [
    "df = pd.concat([df, df2.head(10)], ignore_index=True)"
   ]
  },
  {
   "cell_type": "code",
   "execution_count": 64,
   "id": "6b273474",
   "metadata": {},
   "outputs": [],
   "source": [
    "df.to_csv(File, index=False)"
   ]
  },
  {
   "cell_type": "code",
   "execution_count": 68,
   "id": "34b98c8f",
   "metadata": {},
   "outputs": [
    {
     "data": {
      "image/png": "[encoded data removed]",
      "text/plain": [
       "<Figure size 1000x600 with 1 Axes>"
      ]
     },
     "metadata": {},
     "output_type": "display_data"
    }
   ],
   "source": [
    "# ACCIDENT DATE na typ daty i DAY OF WEEK z nazwami dni tygodnia\n",
    "df['ACCIDENT DATE'] = pd.to_datetime(df['ACCIDENT DATE'])\n",
    "df['DAY OF WEEK'] = df['ACCIDENT DATE'].dt.day_name()\n",
    "\n",
    "daily_counts = df['DAY OF WEEK'].value_counts()\n",
    "\n",
    "daily_counts = daily_counts.sort_index()\n",
    "\n",
    "# WYKRES\n",
    "plt.figure(figsize=(10, 6))\n",
    "sns.barplot(x=daily_counts.index, y=daily_counts.values, palette='viridis')\n",
    "plt.xlabel('Dzień tygodnia', fontweight='bold', color='darkblue')\n",
    "plt.ylabel('Liczba wypadków', fontweight='bold', color='darkblue')\n",
    "plt.title('Ilość wypadków z podziałem na dni tygodnia')\n",
    "\n",
    "plt.show()"
   ]
  },
  {
   "cell_type": "code",
   "execution_count": null,
   "id": "78f5935b",
   "metadata": {},
   "outputs": [],
   "source": []
  },
  {
   "cell_type": "code",
   "execution_count": null,
   "id": "3c3d8c78",
   "metadata": {
    "scrolled": true
   },
   "outputs": [],
   "source": []
  }
 ],
 "metadata": {
  "kernelspec": {
   "display_name": "Python 3 (ipykernel)",
   "language": "python",
   "name": "python3"
  },
  "language_info": {
   "codemirror_mode": {
    "name": "ipython",
    "version": 3
   },
   "file_extension": ".py",
   "mimetype": "text/x-python",
   "name": "python",
   "nbconvert_exporter": "python",
   "pygments_lexer": "ipython3",
   "version": "3.10.6"
  }
 },
 "nbformat": 4,
 "nbformat_minor": 5
}
