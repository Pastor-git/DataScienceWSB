{
 "cells": [
  {
   "cell_type": "code",
   "execution_count": 1,
   "id": "5b983200",
   "metadata": {},
   "outputs": [
    {
     "name": "stdout",
     "output_type": "stream",
     "text": [
      "hi\n"
     ]
    }
   ],
   "source": [
    "print(\"hi\")"
   ]
  },
  {
   "cell_type": "code",
   "execution_count": 2,
   "id": "e7ab4480",
   "metadata": {},
   "outputs": [],
   "source": [
    "import pandas as pd\n",
    "import matplotlib.pyplot as plt"
   ]
  },
  {
   "cell_type": "code",
   "execution_count": 6,
   "id": "6ea9a59e",
   "metadata": {},
   "outputs": [],
   "source": [
    "File = './TestCSV.csv'"
   ]
  },
  {
   "cell_type": "code",
   "execution_count": 7,
   "id": "6ed9974a",
   "metadata": {},
   "outputs": [],
   "source": [
    "df = pd.read_csv(File)"
   ]
  },
  {
   "cell_type": "code",
   "execution_count": 25,
   "id": "f65b5fef",
   "metadata": {},
   "outputs": [
    {
     "name": "stdout",
     "output_type": "stream",
     "text": [
      "     Hello Hellow\n",
      "0   There1    hi1\n",
      "1   There2    hi2\n",
      "2   There3    hi3\n",
      "3      NaN    hi1\n",
      "4      NaN    hi2\n",
      "5      NaN    hi3\n",
      "6   There1    NaN\n",
      "7   There2    NaN\n",
      "8   There3    NaN\n",
      "9   There1    NaN\n",
      "10  There2    NaN\n",
      "11  There3    NaN\n"
     ]
    }
   ],
   "source": [
    "print(df)"
   ]
  },
  {
   "cell_type": "code",
   "execution_count": 12,
   "id": "74215289",
   "metadata": {},
   "outputs": [],
   "source": [
    "nowe_dane = pd.DataFrame({'Hellow': ['hi1', 'hi2', 'hi3']})\n",
    "\n",
    "df = pd.concat([df, nowe_dane], ignore_index=True)\n",
    "\n",
    "df.to_csv(File, index=False)"
   ]
  },
  {
   "cell_type": "code",
   "execution_count": 24,
   "id": "3ea4d82a",
   "metadata": {},
   "outputs": [],
   "source": [
    "# nowe_dane2 = pd.DataFrame({'Hello': ['There1','There2','There3']})\n",
    "nowe_dane2 = pd.Series(['There1', 'There2', 'There3'], name='Hello')\n",
    "# df = pd.concat([df, nowe_dane2], ignore_index=True)\n",
    "df.reset_index(drop=True, inplace=True)\n",
    "df.loc[:2, 'Hello'] = nowe_dane2.values\n",
    "df.to_csv(File, index=False)"
   ]
  },
  {
   "cell_type": "code",
   "execution_count": null,
   "id": "ca431736",
   "metadata": {},
   "outputs": [],
   "source": []
  }
 ],
 "metadata": {
  "kernelspec": {
   "display_name": "Python 3 (ipykernel)",
   "language": "python",
   "name": "python3"
  },
  "language_info": {
   "codemirror_mode": {
    "name": "ipython",
    "version": 3
   },
   "file_extension": ".py",
   "mimetype": "text/x-python",
   "name": "python",
   "nbconvert_exporter": "python",
   "pygments_lexer": "ipython3",
   "version": "3.10.6"
  }
 },
 "nbformat": 4,
 "nbformat_minor": 5
}
